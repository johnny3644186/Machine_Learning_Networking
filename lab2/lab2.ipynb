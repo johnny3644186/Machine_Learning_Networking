{
 "cells": [
  {
   "cell_type": "code",
   "execution_count": 1,
   "metadata": {},
   "outputs": [
    {
     "name": "stdout",
     "output_type": "stream",
     "text": [
      "      Destination.Port  Protocol\n",
      "0                  443         6\n",
      "1                  443         6\n",
      "2                  443         6\n",
      "3                  443         6\n",
      "4                  443         6\n",
      "...                ...       ...\n",
      "4312                53        17\n",
      "4313                53        17\n",
      "4314                53        17\n",
      "4315                53        17\n",
      "4316                53        17\n",
      "\n",
      "[4317 rows x 2 columns]\n",
      "Index(['Destination.Port', 'Protocol'], dtype='object')\n",
      "(4317, 2)\n"
     ]
    },
    {
     "data": {
      "text/plain": [
       "'\\nfor x, y in kf.split(X):\\n    train_index = x\\n    test_index = y\\n    print(\"TRAIN:\", train_index, \"TEST:\", test_index)\\n'"
      ]
     },
     "execution_count": 1,
     "metadata": {},
     "output_type": "execute_result"
    }
   ],
   "source": [
    "import sys\n",
    "import numpy as np\n",
    "import pandas as pd\n",
    "import scipy as sp\n",
    "import IPython\n",
    "import sklearn\n",
    "from sklearn.model_selection import KFold\n",
    "from sklearn.cluster import KMeans\n",
    "#from sklearn.cluster import kmeans_plusplus # 0.24 版本才有\n",
    "\n",
    "#\n",
    "# Data processing\n",
    "#\n",
    "# import the dataset and transform it to a dataframe\n",
    "df = pd.read_csv(r'D:\\交大\\機器學習之網路應用\\lab2\\dataset\\raw_data.csv', error_bad_lines=False).drop_duplicates()\n",
    "# Since the label in all entries of the data set is \"BENIGN\", there's no need for this feature\n",
    "#X = df.drop(columns=['Flow.ID', 'Source.IP', 'Source.Port', 'Destination.IP', 'Timestamp', 'Label'])\n",
    "X = df.filter(items=['Source.Port', 'Destination.Port', 'Protocol'])\n",
    "\n",
    "## Swap src_port and dst_port if src_port is the smaller (well-known port)\n",
    "index = -1\n",
    "for src, dst in zip(X['Source.Port'], X['Destination.Port']):\n",
    "    index = index +1\n",
    "    if src < dst:\n",
    "        # src_port = src, dst_port = dst\n",
    "        X.iloc[index, 1] = src\n",
    "        X.iloc[index, 0] = dst\n",
    "        \n",
    "#print(\"The 685th entry is: \\n\", X.iloc[685])\n",
    "#print(X.head(20))\n",
    "\n",
    "# The target cluster labels\n",
    "Y_temp = pd.read_csv(r'D:\\交大\\機器學習之網路應用\\lab2\\dataset\\cluster.csv', error_bad_lines=False)\n",
    "Y = Y_temp['Cluster'].to_numpy()\n",
    "\n",
    "# Drop Source.Port since we don't need it anymore\n",
    "X = X.drop(columns=['Source.Port'])\n",
    "# Meet the data\n",
    "print(X)\n",
    "print(X.columns)\n",
    "print(X.shape)\n",
    "\n",
    "# Split dataset into training_set and test_set\n",
    "#kf = KFold(n_splits=2, shuffle=True, random_state=1)\n",
    "#train_index = np.empty([2159, 85])\n",
    "#test_index = np.empty([2158, 85])\n",
    "\"\"\"\n",
    "for x, y in kf.split(X):\n",
    "    train_index = x\n",
    "    test_index = y\n",
    "    print(\"TRAIN:\", train_index, \"TEST:\", test_index)\n",
    "\"\"\"\n",
    "#train_set = X.iloc[train_index]\n",
    "#test_set = X.iloc[test_index]"
   ]
  },
  {
   "cell_type": "markdown",
   "metadata": {},
   "source": [
    "#### K-Means"
   ]
  },
  {
   "cell_type": "code",
   "execution_count": 2,
   "metadata": {},
   "outputs": [
    {
     "data": {
      "text/plain": [
       "array([1, 1, 1, ..., 3, 3, 3])"
      ]
     },
     "execution_count": 2,
     "metadata": {},
     "output_type": "execute_result"
    }
   ],
   "source": [
    "# Do K-Means with K-means++ enabled for better initial centroids\n",
    "kmeans = KMeans(n_clusters=4, init='k-means++', random_state=0)\n",
    "kmeans.fit(X)\n",
    "kmeans.labels_\n",
    "#kmeans.predict(X.iloc[:3])"
   ]
  },
  {
   "cell_type": "code",
   "execution_count": 3,
   "metadata": {},
   "outputs": [
    {
     "name": "stdout",
     "output_type": "stream",
     "text": [
      "(4317,)\n",
      "(4317,)\n"
     ]
    },
    {
     "data": {
      "text/plain": [
       "0.9455789198780098"
      ]
     },
     "execution_count": 3,
     "metadata": {},
     "output_type": "execute_result"
    }
   ],
   "source": [
    "# Evaluation\n",
    "from sklearn.metrics.cluster import adjusted_mutual_info_score\n",
    "print(kmeans.labels_.shape)\n",
    "print(Y.shape)\n",
    "adjusted_mutual_info_score(Y, kmeans.labels_)"
   ]
  },
  {
   "cell_type": "code",
   "execution_count": 4,
   "metadata": {},
   "outputs": [
    {
     "data": {
      "text/plain": [
       "0.9455789198780099"
      ]
     },
     "execution_count": 4,
     "metadata": {},
     "output_type": "execute_result"
    }
   ],
   "source": [
    "# KMeans with different parameter (init='random')\n",
    "kmeans_ran = KMeans(n_clusters=4, init='random', random_state=0)\n",
    "kmeans_ran.fit(X)\n",
    "adjusted_mutual_info_score(Y, kmeans_ran.labels_)"
   ]
  },
  {
   "cell_type": "code",
   "execution_count": 5,
   "metadata": {},
   "outputs": [
    {
     "data": {
      "text/plain": [
       "0.8494223070905361"
      ]
     },
     "execution_count": 5,
     "metadata": {},
     "output_type": "execute_result"
    }
   ],
   "source": [
    "# KMeans with Normalization\n",
    "## Normalization\n",
    "from sklearn.preprocessing import MinMaxScaler\n",
    "scaler = MinMaxScaler()\n",
    "scaler.fit(X)\n",
    "X_nor = scaler.transform(X)\n",
    "## Build model\n",
    "kmeans_nor = KMeans(n_clusters=4, init='k-means++', random_state=0)\n",
    "kmeans_nor.fit(X_nor)\n",
    "adjusted_mutual_info_score(Y, kmeans_nor.labels_)"
   ]
  },
  {
   "cell_type": "code",
   "execution_count": 6,
   "metadata": {},
   "outputs": [
    {
     "data": {
      "text/plain": [
       "array([[<AxesSubplot:title={'center':'Destination.Port'}>,\n",
       "        <AxesSubplot:title={'center':'Protocol'}>]], dtype=object)"
      ]
     },
     "execution_count": 6,
     "metadata": {},
     "output_type": "execute_result"
    },
    {
     "data": {
      "image/png": "[encoded data removed]",
      "text/plain": [
       "<Figure size 1080x576 with 2 Axes>"
      ]
     },
     "metadata": {
      "needs_background": "light"
     },
     "output_type": "display_data"
    }
   ],
   "source": [
    "# Visualize the data\n",
    "X.hist(figsize=(15,8))"
   ]
  },
  {
   "cell_type": "code",
   "execution_count": 7,
   "metadata": {},
   "outputs": [
    {
     "data": {
      "text/plain": [
       "array([[<AxesSubplot:xlabel='Destination.Port', ylabel='Destination.Port'>,\n",
       "        <AxesSubplot:xlabel='Protocol', ylabel='Destination.Port'>],\n",
       "       [<AxesSubplot:xlabel='Destination.Port', ylabel='Protocol'>,\n",
       "        <AxesSubplot:xlabel='Protocol', ylabel='Protocol'>]], dtype=object)"
      ]
     },
     "execution_count": 7,
     "metadata": {},
     "output_type": "execute_result"
    },
    {
     "data": {
      "image/png": "[encoded data removed]",
      "text/plain": [
       "<Figure size 720x720 with 4 Axes>"
      ]
     },
     "metadata": {
      "needs_background": "light"
     },
     "output_type": "display_data"
    }
   ],
   "source": [
    "# Visualize the data\n",
    "import matplotlib.pyplot as plt\n",
    "pd.plotting.scatter_matrix(X, figsize=(10, 10),\n",
    "                           diagonal='kde', marker='o', alpha=.8)"
   ]
  },
  {
   "cell_type": "code",
   "execution_count": 8,
   "metadata": {},
   "outputs": [
    {
     "data": {
      "image/png": "[encoded data removed]",
      "text/plain": [
       "<Figure size 432x288 with 1 Axes>"
      ]
     },
     "metadata": {
      "needs_background": "light"
     },
     "output_type": "display_data"
    }
   ],
   "source": [
    "from matplotlib.lines import Line2D\n",
    "# Visualize clusters\n",
    "#X['labels'] = kmeans.fit_predict(X)\n",
    "X['labels'] = kmeans.labels_\n",
    "## create a color map\n",
    "colors = ['#DF2020', '#00FF00', '#2095DF', '#FFBF00']\n",
    "X['color'] = X.labels.map({0:colors[0], 1:colors[1], 2:colors[2], 3:colors[3]})\n",
    "plt.scatter(X['Destination.Port'], X['Protocol'], c=X.color, marker='o')\n",
    "\n",
    "# create a list of legend elemntes\n",
    "## markers / records\n",
    "legend_elements = [Line2D([0], [0], marker='o', color='w', label='Cluster {}'.format(i+1), \n",
    "               markerfacecolor=mcolor, markersize=5) for i, mcolor in enumerate(colors)]\n",
    "# plot legend\n",
    "plt.legend(handles=legend_elements, loc='upper right')\n",
    "# title and labels\n",
    "plt.title('Clustering Result\\n', loc='left', fontsize=22)\n",
    "plt.xlabel('Destination.Port')\n",
    "plt.ylabel('Protocol')\n",
    "# clean X\n",
    "X = X.drop(columns=['labels', 'color'])"
   ]
  },
  {
   "cell_type": "code",
   "execution_count": 9,
   "metadata": {},
   "outputs": [
    {
     "name": "stdout",
     "output_type": "stream",
     "text": [
      "[1631, 849, 7, 1830]\n",
      "[856, 135, 1631, 1695]\n"
     ]
    },
    {
     "data": {
      "image/png": "[encoded data removed]",
      "text/plain": [
       "<Figure size 432x288 with 1 Axes>"
      ]
     },
     "metadata": {},
     "output_type": "display_data"
    }
   ],
   "source": [
    "# Draw a pir chart for better visualization\n",
    "## Get the propotions\n",
    "label_samples = [sum(kmeans.labels_ == j) for j in range(4)]\n",
    "print(label_samples)\n",
    "\n",
    "# The actual propotions of Y\n",
    "Y_samples = [sum(Y == j) for j in range(4)]\n",
    "print(Y_samples)\n",
    "\n",
    "clusters = ['Cluster 0', 'Cluster 1', 'Cluster 2', 'Cluster 3']\n",
    "#colors = ['r', 'g', 'y', 'blue']\n",
    "colors = ['#DF2020', '#00FF00', '#2095DF', '#FFBF00']\n",
    "plt.pie(label_samples, labels=clusters, colors=colors, startangle=90, autopct='%.1f%%')\n",
    "plt.show()"
   ]
  },
  {
   "cell_type": "markdown",
   "metadata": {},
   "source": [
    "#### Agglomerative Clustering"
   ]
  },
  {
   "cell_type": "code",
   "execution_count": 10,
   "metadata": {},
   "outputs": [
    {
     "data": {
      "text/plain": [
       "0.9455789198780098"
      ]
     },
     "execution_count": 10,
     "metadata": {},
     "output_type": "execute_result"
    }
   ],
   "source": [
    "# Agglomerative Clustering (Hierarchical clustering)\n",
    "from sklearn.cluster import AgglomerativeClustering\n",
    "agg_linkage = AgglomerativeClustering(n_clusters=4, linkage='ward')\n",
    "agg_linkage.fit(X)\n",
    "agg_linkage.labels_\n",
    "\n",
    "# Evaluation\n",
    "adjusted_mutual_info_score(Y, agg_linkage.labels_)"
   ]
  },
  {
   "cell_type": "code",
   "execution_count": 11,
   "metadata": {},
   "outputs": [
    {
     "data": {
      "text/plain": [
       "0.6984045110897034"
      ]
     },
     "execution_count": 11,
     "metadata": {},
     "output_type": "execute_result"
    }
   ],
   "source": [
    "# Agglomerative Clustering with linkage=\"single\"\n",
    "agg_single = AgglomerativeClustering(n_clusters=4, linkage='single')\n",
    "agg_single.fit(X)\n",
    "agg_single.labels_\n",
    "# Evaluation\n",
    "adjusted_mutual_info_score(Y, agg_single.labels_)\n",
    "# Plot Dendrogram\n",
    "#from scipy.cluster.hierarchy import dendrogram"
   ]
  },
  {
   "cell_type": "markdown",
   "metadata": {},
   "source": [
    "#### DBSCAN"
   ]
  },
  {
   "cell_type": "code",
   "execution_count": 12,
   "metadata": {},
   "outputs": [
    {
     "name": "stdout",
     "output_type": "stream",
     "text": [
      "[0 0 0 ... 4 4 4]\n"
     ]
    },
    {
     "data": {
      "text/plain": [
       "0.9472274267484223"
      ]
     },
     "execution_count": 12,
     "metadata": {},
     "output_type": "execute_result"
    }
   ],
   "source": [
    "# DBSCAN with default parameters (eps=0.5, min_samples=5)\n",
    "from sklearn.cluster import DBSCAN\n",
    "dbscan_default = DBSCAN()\n",
    "dbscan_default.fit(X)\n",
    "print(dbscan_default.labels_)\n",
    "\n",
    "# Evaluation\n",
    "adjusted_mutual_info_score(Y, dbscan_default.labels_)"
   ]
  },
  {
   "cell_type": "code",
   "execution_count": 13,
   "metadata": {},
   "outputs": [
    {
     "name": "stdout",
     "output_type": "stream",
     "text": [
      "[0 0 0 ... 3 3 3]\n"
     ]
    },
    {
     "data": {
      "text/plain": [
       "0.9472274267484223"
      ]
     },
     "execution_count": 13,
     "metadata": {},
     "output_type": "execute_result"
    }
   ],
   "source": [
    "# DBSCAN with different parameters (eps=1, min_samples=10)\n",
    "dbscan_test = DBSCAN(eps=1, min_samples=10)\n",
    "dbscan_test.fit(X)\n",
    "print(dbscan_test.labels_)\n",
    "\n",
    "# Evaluation\n",
    "adjusted_mutual_info_score(Y, dbscan_test.labels_)"
   ]
  },
  {
   "cell_type": "code",
   "execution_count": 14,
   "metadata": {},
   "outputs": [
    {
     "name": "stdout",
     "output_type": "stream",
     "text": [
      "[849, 135, 1631, 1540]\n",
      "[856, 135, 1631, 1695]\n"
     ]
    },
    {
     "data": {
      "image/png": "[encoded data removed]",
      "text/plain": [
       "<Figure size 432x288 with 1 Axes>"
      ]
     },
     "metadata": {},
     "output_type": "display_data"
    }
   ],
   "source": [
    "# Draw a pir chart for better visualization\n",
    "## DBSCAN_test\n",
    "## Get the propotions\n",
    "label_samples = [sum(dbscan_test.labels_ == j) for j in range(4)]\n",
    "print(label_samples)\n",
    "\n",
    "# The actual propotions of Y\n",
    "Y_samples = [sum(Y == j) for j in range(4)]\n",
    "print(Y_samples)\n",
    "\n",
    "clusters = ['Cluster 0', 'Cluster 1', 'Cluster 2', 'Cluster 3']\n",
    "#colors = ['r', 'g', 'y', 'blue']\n",
    "colors = ['#DF2020', '#00FF00', '#2095DF', '#FFBF00']\n",
    "plt.pie(label_samples, labels=clusters, colors=colors, startangle=90, autopct='%.1f%%')\n",
    "plt.show()"
   ]
  }
 ],
 "metadata": {
  "kernelspec": {
   "display_name": "Python 3",
   "language": "python",
   "name": "python3"
  },
  "language_info": {
   "codemirror_mode": {
    "name": "ipython",
    "version": 3
   },
   "file_extension": ".py",
   "mimetype": "text/x-python",
   "name": "python",
   "nbconvert_exporter": "python",
   "pygments_lexer": "ipython3",
   "version": "3.8.5"
  }
 },
 "nbformat": 4,
 "nbformat_minor": 4
}
